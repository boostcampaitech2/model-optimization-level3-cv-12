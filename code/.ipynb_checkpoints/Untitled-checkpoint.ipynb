{
 "cells": [
  {
   "cell_type": "code",
   "execution_count": 88,
   "id": "1991bdaf-f091-489b-85cf-89c9c3d8b6a9",
   "metadata": {},
   "outputs": [],
   "source": [
    "import optuna\n",
    "import plotly\n",
    "import matplotlib.pyplot as plt"
   ]
  },
  {
   "cell_type": "code",
   "execution_count": null,
   "id": "076db7eb-b8d6-44d3-9f91-37b943d6fc6f",
   "metadata": {},
   "outputs": [],
   "source": [
    "python tune.py --storage sqlite://{name}.db"
   ]
  },
  {
   "cell_type": "code",
   "execution_count": 127,
   "id": "a8c9bea1-b705-4187-a1bb-aaef914fcd79",
   "metadata": {},
   "outputs": [],
   "source": [
    "loaded_study = optuna.load_study(study_name=\"automl101\", storage=\"sqlite:///search.db\")"
   ]
  },
  {
   "cell_type": "code",
   "execution_count": 128,
   "id": "ced680f5-ff65-4416-8d17-4bef7177bc38",
   "metadata": {},
   "outputs": [],
   "source": [
    "trials= loaded_study.get_trials()"
   ]
  },
  {
   "cell_type": "code",
   "execution_count": 129,
   "id": "756af7ae-3939-4acb-a488-79628bf1e976",
   "metadata": {},
   "outputs": [],
   "source": [
    "time = []\n",
    "f1=[]\n",
    "for i in trials:\n",
    "    if i.values != None:\n",
    "        time.append(i.values[2])\n",
    "        f1.append(i.values[0])"
   ]
  },
  {
   "cell_type": "code",
   "execution_count": 131,
   "id": "587d0015-549d-4181-a981-bb5ecd53e93a",
   "metadata": {},
   "outputs": [
    {
     "data": {
      "text/plain": [
       "<matplotlib.collections.PathCollection at 0x7f51542c21d0>"
      ]
     },
     "execution_count": 131,
     "metadata": {},
     "output_type": "execute_result"
    },
    {
     "data": {
      "image/png": "[encoded data removed]",
      "text/plain": [
       "<Figure size 432x288 with 1 Axes>"
      ]
     },
     "metadata": {
      "needs_background": "light"
     },
     "output_type": "display_data"
    }
   ],
   "source": [
    "plt.scatter(f1, time)\n",
    "for i in len(time):\n",
    "    plt.annotate(label, (X[i], Y[i]))"
   ]
  },
  {
   "cell_type": "code",
   "execution_count": 132,
   "id": "49bc6f64-5b9c-408b-a670-e4db408815a5",
   "metadata": {},
   "outputs": [
    {
     "data": {
      "text/plain": [
       "[2.1983914534250895,\n",
       " 3.432857624689738,\n",
       " 1.6506880044937133,\n",
       " 2.7842559973398844,\n",
       " 1.5676074743270874,\n",
       " 3.3882794857025145,\n",
       " 3.500100262959798,\n",
       " 1.535590402285258,\n",
       " 2.5286655902862547,\n",
       " 5.141162713368733]"
      ]
     },
     "execution_count": 132,
     "metadata": {},
     "output_type": "execute_result"
    }
   ],
   "source": [
    "time"
   ]
  },
  {
   "cell_type": "code",
   "execution_count": null,
   "id": "26e9f963-9554-433c-9181-5ca3f017c1ef",
   "metadata": {},
   "outputs": [],
   "source": []
  },
  {
   "cell_type": "code",
   "execution_count": 133,
   "id": "13254e38-d3cd-4a05-9fdc-35b230b36a85",
   "metadata": {},
   "outputs": [
    {
     "data": {
      "text/plain": [
       "[0.6038012838029196, 1176676.0, 1.6506880044937133]"
      ]
     },
     "execution_count": 133,
     "metadata": {},
     "output_type": "execute_result"
    }
   ],
   "source": [
    "trials[2].values"
   ]
  },
  {
   "cell_type": "code",
   "execution_count": 116,
   "id": "771e6862-1cf3-45bb-ab05-37230abd4442",
   "metadata": {},
   "outputs": [
    {
     "data": {
      "text/plain": [
       "{'batch_size': 16,\n",
       " 'depth_multiple': 0.25,\n",
       " 'epochs': 50,\n",
       " 'img_size': 112,\n",
       " 'last_dim': 1024,\n",
       " 'm1': 'DWConv',\n",
       " 'm1/activation': 'ReLU',\n",
       " 'm1/out_channels': 32,\n",
       " 'm1/repeat': 3,\n",
       " 'm1/stride': 1,\n",
       " 'm2': 'Conv',\n",
       " 'm2/activation': 'Hardswish',\n",
       " 'm2/kernel_size': 5,\n",
       " 'm2/out_channels': 64,\n",
       " 'm2/repeat': 2,\n",
       " 'm2/stride': 2,\n",
       " 'm3': 'DWConv',\n",
       " 'm3/activation': 'ReLU',\n",
       " 'm3/kernel_size': 5,\n",
       " 'm3/out_channels': 48,\n",
       " 'm3/repeat': 2,\n",
       " 'm3/stride': 2,\n",
       " 'm4': 'InvertedResidualv2',\n",
       " 'm4/repeat': 4,\n",
       " 'm4/stride': 1,\n",
       " 'm4/v2_c': 16,\n",
       " 'm4/v2_t': 2,\n",
       " 'm5': 'DWConv',\n",
       " 'm5/activation': 'Hardswish',\n",
       " 'm5/kernel_size': 3,\n",
       " 'm5/out_channels': 256,\n",
       " 'm5/repeat': 1,\n",
       " 'm5/stride': 2,\n",
       " 'm6': 'InvertedResidualv2',\n",
       " 'm6/repeat': 5,\n",
       " 'm6/stride': 1,\n",
       " 'm6/v2_c': 128,\n",
       " 'm6/v2_t': 8,\n",
       " 'm7': 'Conv',\n",
       " 'm7/activation': 'Hardswish',\n",
       " 'm7/kernel_size': 1,\n",
       " 'm7/out_channels': 1024,\n",
       " 'm7/repeat': 1,\n",
       " 'm7/stride': 1,\n",
       " 'n_select': 2,\n",
       " 'width_multiple': 0.75}"
      ]
     },
     "execution_count": 116,
     "metadata": {},
     "output_type": "execute_result"
    }
   ],
   "source": [
    "trials[2].params"
   ]
  },
  {
   "cell_type": "code",
   "execution_count": null,
   "id": "f731a91c-dc75-4ded-b613-45640418b76f",
   "metadata": {},
   "outputs": [],
   "source": []
  }
 ],
 "metadata": {
  "kernelspec": {
   "display_name": "lightweight",
   "language": "python",
   "name": "lightweight"
  },
  "language_info": {
   "codemirror_mode": {
    "name": "ipython",
    "version": 3
   },
   "file_extension": ".py",
   "mimetype": "text/x-python",
   "name": "python",
   "nbconvert_exporter": "python",
   "pygments_lexer": "ipython3",
   "version": "3.7.11"
  }
 },
 "nbformat": 4,
 "nbformat_minor": 5
}
